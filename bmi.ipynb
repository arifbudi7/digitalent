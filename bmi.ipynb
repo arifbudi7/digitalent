{
 "cells": [
  {
   "cell_type": "markdown",
   "metadata": {},
   "source": [
    "# 1000 Digital Talent UGM 2018 - BIG DATA B\n",
    "\n",
    "NAMA : ARIF BUDI SETIAWAN\n",
    "\n",
    "LATIHAN \n",
    "Kalkulator Body Mass Index (BMI)\n",
    "\n",
    "## LATIHAN\n",
    "\n",
    "\n",
    "Body Mass Index (BMI) menentukan sebuah keidealan berat badan terhadap tinggi badan. Berikut adalah formula dari BMI : BMI = weight (kg) ÷ height^2 (m^2)\n",
    "\n",
    "Berikut adalah kategorisasi BMI\n",
    "\n",
    "| BMI                 | Kategori BMI             |   |\n",
    "|---------------------|---------------------------|---|\n",
    "| Kurang dari 15        | Very severely underweight |   |\n",
    "| Diantara 15 dan 16   | Severely underweight      |   |\n",
    "| Diantara 16 dan 18.5 | Underweight               |   |\n",
    "| Diantara 18.5 dan 25 | Normal (healthy weight)   |   |\n",
    "| Diantara 25 dan 30   | Overweight                |   |\n",
    "| Diantara 30 dan 35   | Moderately obese          |   |\n",
    "| Diantara 35 dan 40   | Severely obese            |   |\n",
    "| Over 40             | Very severely obese       |   |\n",
    "\n",
    "Buatlah sebuah program yang memiliki dua variabel berat badan dengan satuan KG, dan tinggi badan dengan satuan CM, kemudian keluaran dari program adalah Kategori BMI"
   ]
  },
  {
   "cell_type": "markdown",
   "metadata": {},
   "source": [
    "## Kode\n"
   ]
  },
  {
   "cell_type": "code",
   "execution_count": 15,
   "metadata": {},
   "outputs": [
    {
     "name": "stdout",
     "output_type": "stream",
     "text": [
      "Berat Badan Anda  :  90 kg\n",
      "Tinggi Badan Anda :  170 cm\n",
      "BMI Anda: 31.14186851211073\n",
      "kategori BMI anda : Moderately obese\n"
     ]
    }
   ],
   "source": [
    "bb=90\n",
    "tb=170\n",
    "\n",
    "bmi=bb/(tb/100)**2\n",
    "\n",
    "print(\"Berat Badan Anda  : \",bb,\"kg\")\n",
    "print(\"Tinggi Badan Anda : \",tb,\"cm\")\n",
    "\n",
    "print(\"BMI Anda:\",bmi)\n",
    "\n",
    "if bmi<15:\n",
    "    print(\"kategori BMI anda : Very severely underweight\")\n",
    "elif 15<=bmi<16:\n",
    "    print(\"kategori BMI anda : Severely underweight\")\n",
    "elif 16<=bmi<18.5:\n",
    "    print(\"kategori BMI anda : Underweight\")\n",
    "elif 18.5<=bmi<25:\n",
    "    print(\"kategori BMI anda : Normal\")\n",
    "elif 25<=bmi<30:\n",
    "    print(\"kategori BMI anda : Overweight\")\n",
    "elif 30<=bmi<35:\n",
    "    print(\"kategori BMI anda : Moderately obese\")\n",
    "elif 35<=bmi<40:\n",
    "    print(\"kategori BMI anda : Severely obese\")\n",
    "else:\n",
    "    print(\"kategori BMI anda : Very severely obese\")\n",
    "    \n"
   ]
  },
  {
   "cell_type": "code",
   "execution_count": null,
   "metadata": {},
   "outputs": [],
   "source": []
  },
  {
   "cell_type": "code",
   "execution_count": null,
   "metadata": {},
   "outputs": [],
   "source": []
  }
 ],
 "metadata": {
  "kernelspec": {
   "display_name": "Python 3",
   "language": "python",
   "name": "python3"
  },
  "language_info": {
   "codemirror_mode": {
    "name": "ipython",
    "version": 3
   },
   "file_extension": ".py",
   "mimetype": "text/x-python",
   "name": "python",
   "nbconvert_exporter": "python",
   "pygments_lexer": "ipython3",
   "version": "3.7.0"
  }
 },
 "nbformat": 4,
 "nbformat_minor": 2
}
